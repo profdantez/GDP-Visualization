{
 "cells": [
  {
   "cell_type": "code",
   "execution_count": 1,
   "id": "596e47e9-7adc-4dc3-bb61-0698c3448ea2",
   "metadata": {},
   "outputs": [],
   "source": [
    "import pandas as pd\n",
    "import numpy as np\n",
    "import matplotlib.pyplot as plt\n",
    "import seaborn as sb\n",
    "%matplotlib inline"
   ]
  },
  {
   "cell_type": "code",
   "execution_count": 2,
   "id": "87fb1907-2bb3-41b3-9cef-3ba27c10345a",
   "metadata": {},
   "outputs": [],
   "source": [
    "data = pd.read_csv('GDP by Country 1999-2022.csv')"
   ]
  },
  {
   "cell_type": "code",
   "execution_count": 3,
   "id": "fefc4650-30d6-4721-8b43-20920cf83652",
   "metadata": {},
   "outputs": [
    {
     "data": {
      "text/html": [
       "<div>\n",
       "<style scoped>\n",
       "    .dataframe tbody tr th:only-of-type {\n",
       "        vertical-align: middle;\n",
       "    }\n",
       "\n",
       "    .dataframe tbody tr th {\n",
       "        vertical-align: top;\n",
       "    }\n",
       "\n",
       "    .dataframe thead th {\n",
       "        text-align: right;\n",
       "    }\n",
       "</style>\n",
       "<table border=\"1\" class=\"dataframe\">\n",
       "  <thead>\n",
       "    <tr style=\"text-align: right;\">\n",
       "      <th></th>\n",
       "      <th>Country</th>\n",
       "      <th>1999</th>\n",
       "      <th>2000</th>\n",
       "      <th>2001</th>\n",
       "      <th>2002</th>\n",
       "      <th>2003</th>\n",
       "      <th>2004</th>\n",
       "      <th>2005</th>\n",
       "      <th>2006</th>\n",
       "      <th>2007</th>\n",
       "      <th>...</th>\n",
       "      <th>2015</th>\n",
       "      <th>2016</th>\n",
       "      <th>2017</th>\n",
       "      <th>2018</th>\n",
       "      <th>2019</th>\n",
       "      <th>2020</th>\n",
       "      <th>2021</th>\n",
       "      <th>2022</th>\n",
       "      <th>Unnamed: 24</th>\n",
       "      <th>Unnamed: 25</th>\n",
       "    </tr>\n",
       "  </thead>\n",
       "  <tbody>\n",
       "    <tr>\n",
       "      <th>0</th>\n",
       "      <td>Afghanistan, Rep. of.</td>\n",
       "      <td>0.000</td>\n",
       "      <td>0.000</td>\n",
       "      <td>0.000</td>\n",
       "      <td>4.084</td>\n",
       "      <td>4.585</td>\n",
       "      <td>5.971</td>\n",
       "      <td>7.309</td>\n",
       "      <td>8.399</td>\n",
       "      <td>9.892</td>\n",
       "      <td>...</td>\n",
       "      <td>0.000</td>\n",
       "      <td>0.000</td>\n",
       "      <td>0.000</td>\n",
       "      <td>0.000</td>\n",
       "      <td>0.000</td>\n",
       "      <td>0.000</td>\n",
       "      <td>0.000</td>\n",
       "      <td>0.000</td>\n",
       "      <td>NaN</td>\n",
       "      <td>NaN</td>\n",
       "    </tr>\n",
       "    <tr>\n",
       "      <th>1</th>\n",
       "      <td>Albania</td>\n",
       "      <td>3.444</td>\n",
       "      <td>3.695</td>\n",
       "      <td>4.096</td>\n",
       "      <td>4.456</td>\n",
       "      <td>5.600</td>\n",
       "      <td>7.452</td>\n",
       "      <td>8.376</td>\n",
       "      <td>9.133</td>\n",
       "      <td>10.163</td>\n",
       "      <td>...</td>\n",
       "      <td>11.591</td>\n",
       "      <td>12.204</td>\n",
       "      <td>13.214</td>\n",
       "      <td>14.341</td>\n",
       "      <td>15.553</td>\n",
       "      <td>16.996</td>\n",
       "      <td>16.770</td>\n",
       "      <td>18.012</td>\n",
       "      <td>NaN</td>\n",
       "      <td>NaN</td>\n",
       "    </tr>\n",
       "    <tr>\n",
       "      <th>2</th>\n",
       "      <td>Algeria</td>\n",
       "      <td>48.845</td>\n",
       "      <td>54.749</td>\n",
       "      <td>55.181</td>\n",
       "      <td>57.053</td>\n",
       "      <td>68.013</td>\n",
       "      <td>85.016</td>\n",
       "      <td>102.380</td>\n",
       "      <td>114.322</td>\n",
       "      <td>116.158</td>\n",
       "      <td>...</td>\n",
       "      <td>175.077</td>\n",
       "      <td>181.710</td>\n",
       "      <td>192.256</td>\n",
       "      <td>202.179</td>\n",
       "      <td>210.906</td>\n",
       "      <td>219.160</td>\n",
       "      <td>163.812</td>\n",
       "      <td>168.195</td>\n",
       "      <td>NaN</td>\n",
       "      <td>NaN</td>\n",
       "    </tr>\n",
       "    <tr>\n",
       "      <th>3</th>\n",
       "      <td>Angola</td>\n",
       "      <td>6.153</td>\n",
       "      <td>9.135</td>\n",
       "      <td>8.936</td>\n",
       "      <td>11.386</td>\n",
       "      <td>13.956</td>\n",
       "      <td>19.800</td>\n",
       "      <td>30.632</td>\n",
       "      <td>43.759</td>\n",
       "      <td>55.370</td>\n",
       "      <td>...</td>\n",
       "      <td>102.011</td>\n",
       "      <td>98.815</td>\n",
       "      <td>105.369</td>\n",
       "      <td>112.533</td>\n",
       "      <td>119.403</td>\n",
       "      <td>127.150</td>\n",
       "      <td>70.339</td>\n",
       "      <td>74.953</td>\n",
       "      <td>NaN</td>\n",
       "      <td>NaN</td>\n",
       "    </tr>\n",
       "    <tr>\n",
       "      <th>4</th>\n",
       "      <td>Antigua and Barbuda</td>\n",
       "      <td>0.652</td>\n",
       "      <td>0.678</td>\n",
       "      <td>0.710</td>\n",
       "      <td>0.718</td>\n",
       "      <td>0.754</td>\n",
       "      <td>0.818</td>\n",
       "      <td>0.875</td>\n",
       "      <td>0.962</td>\n",
       "      <td>1.026</td>\n",
       "      <td>...</td>\n",
       "      <td>1.285</td>\n",
       "      <td>1.328</td>\n",
       "      <td>1.386</td>\n",
       "      <td>1.458</td>\n",
       "      <td>1.536</td>\n",
       "      <td>1.617</td>\n",
       "      <td>1.405</td>\n",
       "      <td>1.534</td>\n",
       "      <td>NaN</td>\n",
       "      <td>NaN</td>\n",
       "    </tr>\n",
       "  </tbody>\n",
       "</table>\n",
       "<p>5 rows × 26 columns</p>\n",
       "</div>"
      ],
      "text/plain": [
       "                 Country    1999    2000    2001    2002    2003    2004  \\\n",
       "0  Afghanistan, Rep. of.   0.000   0.000   0.000   4.084   4.585   5.971   \n",
       "1                Albania   3.444   3.695   4.096   4.456   5.600   7.452   \n",
       "2                Algeria  48.845  54.749  55.181  57.053  68.013  85.016   \n",
       "3                 Angola   6.153   9.135   8.936  11.386  13.956  19.800   \n",
       "4    Antigua and Barbuda   0.652   0.678   0.710   0.718   0.754   0.818   \n",
       "\n",
       "      2005     2006     2007  ...     2015     2016     2017     2018  \\\n",
       "0    7.309    8.399    9.892  ...    0.000    0.000    0.000    0.000   \n",
       "1    8.376    9.133   10.163  ...   11.591   12.204   13.214   14.341   \n",
       "2  102.380  114.322  116.158  ...  175.077  181.710  192.256  202.179   \n",
       "3   30.632   43.759   55.370  ...  102.011   98.815  105.369  112.533   \n",
       "4    0.875    0.962    1.026  ...    1.285    1.328    1.386    1.458   \n",
       "\n",
       "      2019     2020     2021     2022  Unnamed: 24  Unnamed: 25  \n",
       "0    0.000    0.000    0.000    0.000          NaN          NaN  \n",
       "1   15.553   16.996   16.770   18.012          NaN          NaN  \n",
       "2  210.906  219.160  163.812  168.195          NaN          NaN  \n",
       "3  119.403  127.150   70.339   74.953          NaN          NaN  \n",
       "4    1.536    1.617    1.405    1.534          NaN          NaN  \n",
       "\n",
       "[5 rows x 26 columns]"
      ]
     },
     "execution_count": 3,
     "metadata": {},
     "output_type": "execute_result"
    }
   ],
   "source": [
    "data.head()"
   ]
  },
  {
   "cell_type": "code",
   "execution_count": 4,
   "id": "bd014f0b-c88a-4ad6-8efb-88145116aa02",
   "metadata": {},
   "outputs": [
    {
     "name": "stdout",
     "output_type": "stream",
     "text": [
      "<class 'pandas.core.frame.DataFrame'>\n",
      "RangeIndex: 180 entries, 0 to 179\n",
      "Data columns (total 26 columns):\n",
      " #   Column       Non-Null Count  Dtype  \n",
      "---  ------       --------------  -----  \n",
      " 0   Country      180 non-null    object \n",
      " 1   1999         180 non-null    float64\n",
      " 2   2000         180 non-null    float64\n",
      " 3   2001         180 non-null    float64\n",
      " 4   2002         180 non-null    float64\n",
      " 5   2003         180 non-null    float64\n",
      " 6   2004         180 non-null    float64\n",
      " 7   2005         180 non-null    float64\n",
      " 8   2006         180 non-null    float64\n",
      " 9   2007         180 non-null    float64\n",
      " 10  2008         180 non-null    float64\n",
      " 11  2009         180 non-null    float64\n",
      " 12  2010         180 non-null    float64\n",
      " 13  2012         180 non-null    float64\n",
      " 14  2013         180 non-null    float64\n",
      " 15  2014         180 non-null    float64\n",
      " 16  2015         180 non-null    float64\n",
      " 17  2016         180 non-null    float64\n",
      " 18  2017         180 non-null    float64\n",
      " 19  2018         180 non-null    float64\n",
      " 20  2019         180 non-null    float64\n",
      " 21  2020         180 non-null    float64\n",
      " 22  2021         180 non-null    float64\n",
      " 23  2022         180 non-null    float64\n",
      " 24  Unnamed: 24  0 non-null      float64\n",
      " 25  Unnamed: 25  0 non-null      float64\n",
      "dtypes: float64(25), object(1)\n",
      "memory usage: 36.7+ KB\n"
     ]
    }
   ],
   "source": [
    "data.info()"
   ]
  },
  {
   "cell_type": "code",
   "execution_count": 5,
   "id": "49ca4e1f-deb0-4dd6-8c27-eb59db6fd57e",
   "metadata": {},
   "outputs": [
    {
     "data": {
      "text/plain": [
       "Country          0\n",
       "1999             0\n",
       "2000             0\n",
       "2001             0\n",
       "2002             0\n",
       "2003             0\n",
       "2004             0\n",
       "2005             0\n",
       "2006             0\n",
       "2007             0\n",
       "2008             0\n",
       "2009             0\n",
       "2010             0\n",
       "2012             0\n",
       "2013             0\n",
       "2014             0\n",
       "2015             0\n",
       "2016             0\n",
       "2017             0\n",
       "2018             0\n",
       "2019             0\n",
       "2020             0\n",
       "2021             0\n",
       "2022             0\n",
       "Unnamed: 24    180\n",
       "Unnamed: 25    180\n",
       "dtype: int64"
      ]
     },
     "execution_count": 5,
     "metadata": {},
     "output_type": "execute_result"
    }
   ],
   "source": [
    "data.isnull().sum()"
   ]
  },
  {
   "cell_type": "code",
   "execution_count": 6,
   "id": "33d08e5b-668e-471c-83ad-97bd379548b8",
   "metadata": {},
   "outputs": [
    {
     "data": {
      "text/html": [
       "<div>\n",
       "<style scoped>\n",
       "    .dataframe tbody tr th:only-of-type {\n",
       "        vertical-align: middle;\n",
       "    }\n",
       "\n",
       "    .dataframe tbody tr th {\n",
       "        vertical-align: top;\n",
       "    }\n",
       "\n",
       "    .dataframe thead th {\n",
       "        text-align: right;\n",
       "    }\n",
       "</style>\n",
       "<table border=\"1\" class=\"dataframe\">\n",
       "  <thead>\n",
       "    <tr style=\"text-align: right;\">\n",
       "      <th></th>\n",
       "      <th>Country</th>\n",
       "      <th>1999</th>\n",
       "      <th>2000</th>\n",
       "      <th>2001</th>\n",
       "      <th>2002</th>\n",
       "      <th>2003</th>\n",
       "      <th>2004</th>\n",
       "      <th>2005</th>\n",
       "      <th>2006</th>\n",
       "      <th>2007</th>\n",
       "      <th>...</th>\n",
       "      <th>2015</th>\n",
       "      <th>2016</th>\n",
       "      <th>2017</th>\n",
       "      <th>2018</th>\n",
       "      <th>2019</th>\n",
       "      <th>2020</th>\n",
       "      <th>2021</th>\n",
       "      <th>2022</th>\n",
       "      <th>Unnamed: 24</th>\n",
       "      <th>Unnamed: 25</th>\n",
       "    </tr>\n",
       "  </thead>\n",
       "  <tbody>\n",
       "    <tr>\n",
       "      <th>84</th>\n",
       "      <td>Kenya</td>\n",
       "      <td>12.883</td>\n",
       "      <td>12.316</td>\n",
       "      <td>13.059</td>\n",
       "      <td>13.191</td>\n",
       "      <td>15.036</td>\n",
       "      <td>16.199</td>\n",
       "      <td>18.73</td>\n",
       "      <td>23.187</td>\n",
       "      <td>26.404</td>\n",
       "      <td>...</td>\n",
       "      <td>63.121</td>\n",
       "      <td>68.866</td>\n",
       "      <td>76.758</td>\n",
       "      <td>85.263</td>\n",
       "      <td>94.303</td>\n",
       "      <td>104.043</td>\n",
       "      <td>109.491</td>\n",
       "      <td>116.641</td>\n",
       "      <td>NaN</td>\n",
       "      <td>NaN</td>\n",
       "    </tr>\n",
       "  </tbody>\n",
       "</table>\n",
       "<p>1 rows × 26 columns</p>\n",
       "</div>"
      ],
      "text/plain": [
       "   Country    1999    2000    2001    2002    2003    2004   2005    2006  \\\n",
       "84   Kenya  12.883  12.316  13.059  13.191  15.036  16.199  18.73  23.187   \n",
       "\n",
       "      2007  ...    2015    2016    2017    2018    2019     2020     2021  \\\n",
       "84  26.404  ...  63.121  68.866  76.758  85.263  94.303  104.043  109.491   \n",
       "\n",
       "       2022  Unnamed: 24  Unnamed: 25  \n",
       "84  116.641          NaN          NaN  \n",
       "\n",
       "[1 rows x 26 columns]"
      ]
     },
     "execution_count": 6,
     "metadata": {},
     "output_type": "execute_result"
    }
   ],
   "source": [
    "kenya = data.loc[data.Country == 'Kenya']\n",
    "kenya"
   ]
  },
  {
   "cell_type": "code",
   "execution_count": 7,
   "id": "75518aa7-e023-4d98-81d6-78c415eff09a",
   "metadata": {},
   "outputs": [
    {
     "data": {
      "text/plain": [
       "[1999,\n",
       " 2000,\n",
       " 2001,\n",
       " 2002,\n",
       " 2003,\n",
       " 2004,\n",
       " 2005,\n",
       " 2006,\n",
       " 2007,\n",
       " 2008,\n",
       " 2009,\n",
       " 2010,\n",
       " 2012,\n",
       " 2013,\n",
       " 2014,\n",
       " 2015,\n",
       " 2016,\n",
       " 2017,\n",
       " 2018,\n",
       " 2019,\n",
       " 2020,\n",
       " 2021,\n",
       " 2022]"
      ]
     },
     "execution_count": 7,
     "metadata": {},
     "output_type": "execute_result"
    }
   ],
   "source": [
    "columns = [int(i) for i in data.columns[1:-2]]\n",
    "columns"
   ]
  },
  {
   "cell_type": "code",
   "execution_count": 8,
   "id": "300bd88d-4518-4fc5-a127-5d626704d535",
   "metadata": {},
   "outputs": [],
   "source": [
    "# converting data types from object type to float type\n",
    "# for i in columns:\n",
    "#     data[i] = pd.to_numeric(data[i])"
   ]
  },
  {
   "cell_type": "code",
   "execution_count": 9,
   "id": "14d2fc22-3965-4463-bd7f-8898d71c6964",
   "metadata": {},
   "outputs": [
    {
     "data": {
      "text/plain": [
       "Country        Australia\n",
       "1999             401.782\n",
       "2000             390.017\n",
       "2001             368.191\n",
       "2002             412.901\n",
       "2003             527.588\n",
       "2004             639.356\n",
       "2005             712.436\n",
       "2006             754.816\n",
       "2007             822.089\n",
       "2008             854.072\n",
       "2009              920.01\n",
       "2010             982.826\n",
       "2012             1039.69\n",
       "2013             1078.91\n",
       "2014             1125.82\n",
       "2015              1240.8\n",
       "2016              1253.0\n",
       "2017             1317.16\n",
       "2018             1381.51\n",
       "2019             1442.47\n",
       "2020              1515.7\n",
       "2021             1610.56\n",
       "2022             1677.45\n",
       "Unnamed: 24          NaN\n",
       "Unnamed: 25          NaN\n",
       "Name: 7, dtype: object"
      ]
     },
     "execution_count": 9,
     "metadata": {},
     "output_type": "execute_result"
    }
   ],
   "source": [
    "data.iloc[7]"
   ]
  },
  {
   "cell_type": "code",
   "execution_count": 10,
   "id": "9d5b46ce-a200-4735-a536-a5b7f6c62af4",
   "metadata": {},
   "outputs": [
    {
     "data": {
      "image/png": "[encoded data removed]",
      "text/plain": [
       "<Figure size 432x288 with 1 Axes>"
      ]
     },
     "metadata": {
      "needs_background": "light"
     },
     "output_type": "display_data"
    },
    {
     "data": {
      "text/plain": [
       "<Figure size 1440x1080 with 0 Axes>"
      ]
     },
     "metadata": {},
     "output_type": "display_data"
    }
   ],
   "source": [
    "australia_figures = data.iloc[7, 1:-2]\n",
    "australia_plot = [i for i in australia_figures]\n",
    "plt.plot(columns, australia_plot)\n",
    "plt.title('Australia GDP Visualization', color = 'g')\n",
    "plt.xlabel('Years')\n",
    "plt.ylabel('GDP in billions')\n",
    "plt.xticks(columns[::2])\n",
    "plt.figure(figsize = (20,15))\n",
    "plt.show()"
   ]
  },
  {
   "cell_type": "code",
   "execution_count": 11,
   "id": "6179709e-4de0-4d64-ad87-edc25c23e9c6",
   "metadata": {},
   "outputs": [],
   "source": [
    "uganda_figures = data.iloc[167, 1:-2]\n",
    "tz_figures = data.iloc[158, 1:-2]\n",
    "uganda_figures, tz_figures\n",
    "ug_plot = [i for i in uganda_figures]\n",
    "tz_plot = [i for i in tz_figures]\n",
    "kenya_figures = data.iloc[84, 1:-2]\n",
    "kenya_plot = [i for i in kenya_figures]"
   ]
  },
  {
   "cell_type": "code",
   "execution_count": 12,
   "id": "3d1dcf9d-86eb-4978-9f83-bcfaab61cf67",
   "metadata": {},
   "outputs": [
    {
     "data": {
      "image/png": "[encoded data removed]",
      "text/plain": [
       "<Figure size 432x288 with 1 Axes>"
      ]
     },
     "metadata": {
      "needs_background": "light"
     },
     "output_type": "display_data"
    },
    {
     "data": {
      "text/plain": [
       "<Figure size 900x450 with 0 Axes>"
      ]
     },
     "metadata": {},
     "output_type": "display_data"
    }
   ],
   "source": [
    "plt.plot(columns, kenya_plot)\n",
    "plt.plot(columns, tz_plot)\n",
    "plt.plot(columns, ug_plot)\n",
    "plt.xticks(columns[::-2])\n",
    "plt.title('East Africa GDP Visualization', color = 'r')\n",
    "plt.xlabel('Years')\n",
    "plt.ylabel('GDP in Billions')\n",
    "plt.legend(labels = ['Kenya', 'Tanzania', 'Uganda'])\n",
    "plt.figure(figsize=(6,3),dpi=150)\n",
    "plt.show()"
   ]
  },
  {
   "cell_type": "code",
   "execution_count": 13,
   "id": "e9463226-e5d9-4032-8fb4-ce1c8f7b060b",
   "metadata": {},
   "outputs": [],
   "source": [
    "usa = data.loc[data.Country == 'United States']\n",
    "usa_figures = data.iloc[171, 1:-2]\n",
    "usa_plot = [i for i in usa_figures]\n",
    "china = data.loc[data.Country == 'China']\n",
    "china_figures = data.iloc[34, 1:-2]\n",
    "china_plot = [i for i in china_figures]"
   ]
  },
  {
   "cell_type": "code",
   "execution_count": 14,
   "id": "100818d3-f247-43b2-9ed5-5c5507d3483c",
   "metadata": {},
   "outputs": [
    {
     "data": {
      "image/png": "[encoded data removed]",
      "text/plain": [
       "<Figure size 432x288 with 1 Axes>"
      ]
     },
     "metadata": {
      "needs_background": "light"
     },
     "output_type": "display_data"
    }
   ],
   "source": [
    "plt.plot(columns, china_plot)\n",
    "plt.plot(columns, usa_plot)\n",
    "plt.title('CHINA vs USA GDP Growth Comparison', color = 'y')\n",
    "plt.xlabel('Years')\n",
    "plt.ylabel('GDP in Billions')\n",
    "plt.xticks(columns[::2])\n",
    "plt.legend(labels = ['China', 'USA'])\n",
    "plt.show()"
   ]
  },
  {
   "cell_type": "code",
   "execution_count": 15,
   "id": "d3391a11-fcff-442c-838c-225e39f60f7e",
   "metadata": {},
   "outputs": [],
   "source": [
    "uk_figures = data.iloc[170, 1:-2]\n",
    "uk_plot = [i for i in uk_figures]\n",
    "france_figures = data.iloc[57, 1:-2]\n",
    "france_plot = [i for i in france_figures]\n",
    "germany_figures = data.iloc[61, 1:-2]\n",
    "germany_plot = [i for i in germany_figures]\n",
    "italy_figures = data.iloc[79, 1:-2]\n",
    "italy_plot = [i for i in italy_figures]"
   ]
  },
  {
   "cell_type": "code",
   "execution_count": 16,
   "id": "991f41fb-3aaf-407e-b898-45f43cb4a40f",
   "metadata": {},
   "outputs": [
    {
     "data": {
      "image/png": "[encoded data removed]",
      "text/plain": [
       "<Figure size 432x288 with 1 Axes>"
      ]
     },
     "metadata": {
      "needs_background": "light"
     },
     "output_type": "display_data"
    }
   ],
   "source": [
    "plt.plot(columns, uk_plot)\n",
    "plt.plot(columns, france_plot)\n",
    "plt.plot(columns, germany_plot)\n",
    "plt.plot(columns, italy_plot)\n",
    "plt.title('Comparison of Europe\\'s largest economies')\n",
    "plt.xlabel('Years')\n",
    "plt.ylabel('GDP in Billions')\n",
    "plt.xticks(columns[::2])\n",
    "plt.legend(labels = ['UK', 'France', 'Germany', 'Italy'])\n",
    "plt.show()"
   ]
  },
  {
   "cell_type": "code",
   "execution_count": 17,
   "id": "71c15286-da52-4842-8ced-f8642038c9aa",
   "metadata": {},
   "outputs": [
    {
     "data": {
      "text/html": [
       "<div>\n",
       "<style scoped>\n",
       "    .dataframe tbody tr th:only-of-type {\n",
       "        vertical-align: middle;\n",
       "    }\n",
       "\n",
       "    .dataframe tbody tr th {\n",
       "        vertical-align: top;\n",
       "    }\n",
       "\n",
       "    .dataframe thead th {\n",
       "        text-align: right;\n",
       "    }\n",
       "</style>\n",
       "<table border=\"1\" class=\"dataframe\">\n",
       "  <thead>\n",
       "    <tr style=\"text-align: right;\">\n",
       "      <th></th>\n",
       "      <th>Country</th>\n",
       "      <th>1999</th>\n",
       "      <th>2000</th>\n",
       "      <th>2001</th>\n",
       "      <th>2002</th>\n",
       "      <th>2003</th>\n",
       "      <th>2004</th>\n",
       "      <th>2005</th>\n",
       "      <th>2006</th>\n",
       "      <th>2007</th>\n",
       "      <th>...</th>\n",
       "      <th>2013</th>\n",
       "      <th>2014</th>\n",
       "      <th>2015</th>\n",
       "      <th>2016</th>\n",
       "      <th>2017</th>\n",
       "      <th>2018</th>\n",
       "      <th>2019</th>\n",
       "      <th>2020</th>\n",
       "      <th>2021</th>\n",
       "      <th>2022</th>\n",
       "    </tr>\n",
       "  </thead>\n",
       "  <tbody>\n",
       "    <tr>\n",
       "      <th>171</th>\n",
       "      <td>United States</td>\n",
       "      <td>9268.43</td>\n",
       "      <td>9816.98</td>\n",
       "      <td>10127.95</td>\n",
       "      <td>10469.60</td>\n",
       "      <td>10960.75</td>\n",
       "      <td>11712.48</td>\n",
       "      <td>12455.83</td>\n",
       "      <td>13244.55</td>\n",
       "      <td>13770.31</td>\n",
       "      <td>...</td>\n",
       "      <td>16729.38</td>\n",
       "      <td>17419.35</td>\n",
       "      <td>17968.20</td>\n",
       "      <td>18697.92</td>\n",
       "      <td>19555.87</td>\n",
       "      <td>20493.25</td>\n",
       "      <td>21404.19</td>\n",
       "      <td>22294.11</td>\n",
       "      <td>22939.58</td>\n",
       "      <td>24796.08</td>\n",
       "    </tr>\n",
       "    <tr>\n",
       "      <th>34</th>\n",
       "      <td>China</td>\n",
       "      <td>1083.28</td>\n",
       "      <td>1198.48</td>\n",
       "      <td>1324.81</td>\n",
       "      <td>1453.84</td>\n",
       "      <td>1640.97</td>\n",
       "      <td>1931.64</td>\n",
       "      <td>2243.69</td>\n",
       "      <td>2630.11</td>\n",
       "      <td>3051.24</td>\n",
       "      <td>...</td>\n",
       "      <td>7287.76</td>\n",
       "      <td>8283.35</td>\n",
       "      <td>11384.76</td>\n",
       "      <td>12253.98</td>\n",
       "      <td>13173.59</td>\n",
       "      <td>14272.35</td>\n",
       "      <td>15620.71</td>\n",
       "      <td>17100.06</td>\n",
       "      <td>16862.98</td>\n",
       "      <td>18463.13</td>\n",
       "    </tr>\n",
       "  </tbody>\n",
       "</table>\n",
       "<p>2 rows × 24 columns</p>\n",
       "</div>"
      ],
      "text/plain": [
       "           Country     1999     2000      2001      2002      2003      2004  \\\n",
       "171  United States  9268.43  9816.98  10127.95  10469.60  10960.75  11712.48   \n",
       "34           China  1083.28  1198.48   1324.81   1453.84   1640.97   1931.64   \n",
       "\n",
       "         2005      2006      2007  ...      2013      2014      2015  \\\n",
       "171  12455.83  13244.55  13770.31  ...  16729.38  17419.35  17968.20   \n",
       "34    2243.69   2630.11   3051.24  ...   7287.76   8283.35  11384.76   \n",
       "\n",
       "         2016      2017      2018      2019      2020      2021      2022  \n",
       "171  18697.92  19555.87  20493.25  21404.19  22294.11  22939.58  24796.08  \n",
       "34   12253.98  13173.59  14272.35  15620.71  17100.06  16862.98  18463.13  \n",
       "\n",
       "[2 rows x 24 columns]"
      ]
     },
     "execution_count": 17,
     "metadata": {},
     "output_type": "execute_result"
    }
   ],
   "source": [
    "data.iloc[[171, 34], :-2]"
   ]
  },
  {
   "cell_type": "code",
   "execution_count": 18,
   "id": "0361907a-3cc1-4861-88d2-3f883e9b3cfa",
   "metadata": {},
   "outputs": [],
   "source": [
    "korea_figures = data.iloc[86, 1:-2]\n",
    "korea_plot = [i for i in korea_figures]\n",
    "japan_figures = data.iloc[81, 1:-2]\n",
    "japan_plot = [i for i in japan_figures]\n",
    "india_figures = data.iloc[74, 1:-2]\n",
    "india_plot = [i for i in india_figures]"
   ]
  },
  {
   "cell_type": "code",
   "execution_count": 19,
   "id": "a7964203-c9b0-4d63-b73d-8ae449fae3c5",
   "metadata": {},
   "outputs": [
    {
     "data": {
      "image/png": "[encoded data removed]",
      "text/plain": [
       "<Figure size 432x288 with 1 Axes>"
      ]
     },
     "metadata": {
      "needs_background": "light"
     },
     "output_type": "display_data"
    }
   ],
   "source": [
    "plt.plot(columns, korea_plot)\n",
    "plt.plot(columns, japan_plot)\n",
    "plt.plot(columns, china_plot)\n",
    "plt.plot(columns, india_plot)\n",
    "plt.title('Comparison of Asia\\'s largest economies')\n",
    "plt.xlabel('Years')\n",
    "plt.ylabel('GDP in Billions')\n",
    "plt.xticks(columns[::2])\n",
    "plt.legend(labels = ['S.Korea', 'Japan', 'China', 'India'])\n",
    "plt.show()"
   ]
  },
  {
   "cell_type": "code",
   "execution_count": 20,
   "id": "e073b890-d4ef-4adb-8d52-01c20f26326f",
   "metadata": {},
   "outputs": [
    {
     "data": {
      "image/png": "[encoded data removed]",
      "text/plain": [
       "<Figure size 432x288 with 1 Axes>"
      ]
     },
     "metadata": {
      "needs_background": "light"
     },
     "output_type": "display_data"
    }
   ],
   "source": [
    "israel_figures = data.iloc[78, 1:-2]\n",
    "israel_plot = [i for i in israel_figures]\n",
    "plt.plot(columns, israel_plot, color = 'r', marker = 'o')\n",
    "plt.title('Israel\\'s GDP Growth', color='b')\n",
    "plt.xlabel('Years')\n",
    "plt.ylabel('GDP in Billions')\n",
    "plt.xticks(columns[::2])\n",
    "plt.show()"
   ]
  },
  {
   "cell_type": "code",
   "execution_count": 21,
   "id": "9341a2c4-c8f3-43b2-94ac-e07fdaf80f04",
   "metadata": {},
   "outputs": [
    {
     "data": {
      "text/plain": [
       "1999    108.285\n",
       "2000      121.0\n",
       "2001    118.659\n",
       "2002    109.382\n",
       "2003     115.26\n",
       "2004    122.503\n",
       "2005    129.841\n",
       "2006    140.195\n",
       "2007    149.046\n",
       "2008    158.397\n",
       "2009    215.727\n",
       "2010    222.898\n",
       "2012    244.806\n",
       "2013     257.14\n",
       "2014    270.446\n",
       "2015    298.866\n",
       "2016    312.434\n",
       "2017    319.393\n",
       "2018    325.563\n",
       "2019    331.085\n",
       "2020    339.065\n",
       "2021    467.532\n",
       "2022    501.409\n",
       "Name: 78, dtype: object"
      ]
     },
     "execution_count": 21,
     "metadata": {},
     "output_type": "execute_result"
    }
   ],
   "source": [
    "israel_figures"
   ]
  },
  {
   "cell_type": "code",
   "execution_count": 22,
   "id": "d3b40185-2ca5-4ec5-8bc8-48a6eb0d9d7f",
   "metadata": {},
   "outputs": [],
   "source": [
    "# growth_rate = ((year+1) - (year-1)) / (year-1)\n",
    "def growth_rate(country_figures):\n",
    "    rate_list = []\n",
    "    for i in range(0, len(country_figures)-1):\n",
    "        initial = country_figures[i]\n",
    "        subsequent = country_figures[i + 1]\n",
    "        growth_rate = (subsequent - initial) / initial\n",
    "        rate_list.append(growth_rate)\n",
    "        ++i \n",
    "    return (sum(rate_list) / len(rate_list)) * 100 "
   ]
  },
  {
   "cell_type": "code",
   "execution_count": 32,
   "id": "64f87316-8e2b-4639-aaf3-813c0b2f6c37",
   "metadata": {},
   "outputs": [
    {
     "name": "stdout",
     "output_type": "stream",
     "text": [
      "Average Growth Rate(Israel): 7.645765436312417\n"
     ]
    }
   ],
   "source": [
    "print(f'Average Growth Rate(Israel): {growth_rate(israel_plot)}')"
   ]
  },
  {
   "cell_type": "code",
   "execution_count": 31,
   "id": "acaf52b0-2032-4904-9723-d82c9304116d",
   "metadata": {},
   "outputs": [
    {
     "name": "stdout",
     "output_type": "stream",
     "text": [
      "Average Chinese growth: 14.091173885386276\n",
      "Average American growth: 4.593683083609974\n",
      "Average S. Korean growth: 7.195336108806603\n",
      "Average Indian growth: 9.72648439979389\n",
      "Average Japanese growth: 1.336326128164425\n",
      "Average Kenyan growth: 10.758640334208867\n"
     ]
    }
   ],
   "source": [
    "print(f'Average Chinese growth: {growth_rate(china_plot)}')\n",
    "print(f'Average American growth: {growth_rate(usa_plot)}')\n",
    "print(f'Average S. Korean growth: {growth_rate(korea_plot)}')\n",
    "print(f'Average Indian growth: {growth_rate(india_plot)}')\n",
    "print(f'Average Japanese growth: {growth_rate(japan_plot)}')\n",
    "print(f'Average Kenyan growth: {growth_rate(kenya_plot)}')"
   ]
  },
  {
   "cell_type": "code",
   "execution_count": 39,
   "id": "5645daed-cd62-449f-9e0c-4532e59f9759",
   "metadata": {},
   "outputs": [
    {
     "data": {
      "image/png": "[encoded data removed]",
      "text/plain": [
       "<Figure size 432x288 with 1 Axes>"
      ]
     },
     "metadata": {
      "needs_background": "light"
     },
     "output_type": "display_data"
    }
   ],
   "source": [
    "algeria_figures = data.iloc[2, 1:-2]\n",
    "algeria_plot = [i for i in algeria_figures]\n",
    "plt.plot(columns, algeria_plot)\n",
    "plt.title('Algeria GDP')\n",
    "plt.xlabel('Years')\n",
    "plt.ylabel('GDP in Billions')\n",
    "plt.xticks(columns[::2])\n",
    "plt.show()"
   ]
  }
 ],
 "metadata": {
  "kernelspec": {
   "display_name": "Python 3",
   "language": "python",
   "name": "python3"
  },
  "language_info": {
   "codemirror_mode": {
    "name": "ipython",
    "version": 3
   },
   "file_extension": ".py",
   "mimetype": "text/x-python",
   "name": "python",
   "nbconvert_exporter": "python",
   "pygments_lexer": "ipython3",
   "version": "3.9.1"
  }
 },
 "nbformat": 4,
 "nbformat_minor": 5
}
